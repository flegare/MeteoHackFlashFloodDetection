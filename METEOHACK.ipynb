{
 "cells": [
  {
   "cell_type": "code",
   "execution_count": null,
   "metadata": {},
   "outputs": [],
   "source": [
    "from pandas import read_csv\n",
    "from datetime import datetime, timedelta\n",
    "import requests"
   ]
  },
  {
   "cell_type": "code",
   "execution_count": null,
   "metadata": {},
   "outputs": [],
   "source": [
    "datamart = \"https://dd.weather.gc.ca\"\n",
    "stations = read_csv(f\"{datamart}/hydrometric/doc/hydrometric_StationList.csv\")"
   ]
  },
  {
   "cell_type": "code",
   "execution_count": null,
   "metadata": {},
   "outputs": [],
   "source": [
    "def hydrometric(station, freq='hourly'):\n",
    "    id, prov_terr = station[' ID'], station['Prov/Terr']\n",
    "    return read_csv(f\"{datamart}/hydrometric/csv/{prov_terr}/{freq}/{prov_terr}_{id}_{freq}_hydrometric.csv\")"
   ]
  },
  {
   "cell_type": "code",
   "execution_count": null,
   "metadata": {},
   "outputs": [],
   "source": [
    "def hrdpa_watershed(station, accum_period=6):\n",
    "    def closest_datetime(dt=datetime.utcnow(), res=accum_period):\n",
    "        delta = timedelta(hours=(dt.hour // res * res) - dt.hour)\n",
    "        return (dt + delta).strftime(\"%Y%m%d%H\")\n",
    "    \n",
    "    dir = f\"{datamart}/analysis/precip/hrdpa_watershed/shapefile/{accum_period:02d}/\"\n",
    "\n",
    "    files = []\n",
    "    for cutoff in (1, 7):\n",
    "        for id in range(1, 12):\n",
    "            file = f\"CMC_HRDPA_WATERSHED-{accum_period:03d}-0{cutoff}00cutoff_SFC_0_ps2.5km_{closest_datetime()}_000_{id:02d}.dbf\"\n",
    "            \n",
    "            req = requests.get(dir + file)\n",
    "            if req.status_code == 200:\n",
    "                files.append(req)\n",
    "    # TODO Go back in time if files is empty\n",
    "\n",
    "    # TODO\n",
    "hrdpa_watershed(None) # XXX For tests"
   ]
  },
  {
   "cell_type": "code",
   "execution_count": null,
   "metadata": {
    "scrolled": true
   },
   "outputs": [],
   "source": [
    "url = \"https://dd.weather.gc.ca/analysis/precip/hrdpa_watershed/shapefile/24/CMC_HRDPA_WATERSHED-024-0700cutoff_SFC_0_ps2.5km_2019070812_000_11.shp\"\n",
    "url = \"/home/julius/CMC_HRDPA_WATERSHED-024-0700cutoff_SFC_0_ps2.5km_2019070812_000_11.shp\"\n",
    "\n",
    "import geopandas as gpd\n",
    "from geopandas import read_file\n",
    "\n",
    "table = read_file(url) # invalid\n",
    "\n",
    "#import pandas as pd\n",
    "#Pandas_Table = pd.DataFrame(Table)\n",
    "\n",
    "#Keys = list(Table.keys())\n",
    "#Keys.remove('ID_1','ID_2') # removing ID attributes from the Table keys list\n",
    "#Keys.remove('Date') # eventually you have date attribute which you wanna preserve.\n",
    "\n",
    "#DS = pd.melt(Pandas_Table, \n",
    "#             id_vars =['ID_1','ID_2'], # accepts multiple filter/ID values \n",
    "#             var_name='class_fito', # Name of the variable which will aggregate all columns from the Table into the Dataframe\n",
    "#             value_name ='biomass (mg.L-1)' , # name of the variable in Dataframe\n",
    "#             value_vars= Keys # parameter that defines which attributes from the Table are a summary of the DataFrame)\n",
    "\n",
    "# checking your DataFrame:\n",
    "\n",
    "#type(DS)   # should appear something like: pandas.core.frame.DataFrame"
   ]
  },
  {
   "cell_type": "code",
   "execution_count": null,
   "metadata": {},
   "outputs": [],
   "source": [
    "#stations\n",
    "#stations_on = stations[stations['Prov/Terr'] == 'ON']\n",
    "#stations_on"
   ]
  },
  {
   "cell_type": "code",
   "execution_count": null,
   "metadata": {},
   "outputs": [],
   "source": [
    "#stations_on.iloc[0]['Prov/Terr']"
   ]
  },
  {
   "cell_type": "code",
   "execution_count": null,
   "metadata": {},
   "outputs": [],
   "source": [
    "# TODO Querying + UI too (get the dbf shape and other stuff)"
   ]
  }
 ],
 "metadata": {
  "kernelspec": {
   "display_name": "Python 3",
   "language": "python",
   "name": "python3"
  },
  "language_info": {
   "codemirror_mode": {
    "name": "ipython",
    "version": 3
   },
   "file_extension": ".py",
   "mimetype": "text/x-python",
   "name": "python",
   "nbconvert_exporter": "python",
   "pygments_lexer": "ipython3",
   "version": "3.7.3"
  }
 },
 "nbformat": 4,
 "nbformat_minor": 2
}
